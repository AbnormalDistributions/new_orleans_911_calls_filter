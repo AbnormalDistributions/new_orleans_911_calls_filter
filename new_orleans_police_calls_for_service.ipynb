{
 "cells": [
  {
   "cell_type": "markdown",
   "id": "3238519e",
   "metadata": {},
   "source": [
    "## Calls for Service New Orleans Search\n",
    "<p>\n",
    "    <i>\n",
    "        James Steele Howard, M.D. <br />\n",
    "        2021/05/11 <br />\n",
    "    </i>\n",
    "</p>\n"
   ]
  },
  {
   "cell_type": "markdown",
   "id": "67a81535",
   "metadata": {},
   "source": [
    "<p>\n",
    "    <b>Script Description:</b>\n",
    "</p>\n",
    "<p>\n",
    "    This script uses data from all incidents reported to the New Orleans\n",
    "    Police Department over the years of 2011 through 2020 to create statistical plots and maps by year. \n",
    "    Data sourced from <a href=\"https://datadriven.nola.gov/home/\">DataDriven.NOLA.gov</a> \"Calls for Service\".\n",
    "</p>\n",
    "<p>\n",
    "    <b>Dataset Notes:</b>\n",
    "<p>\n",
    "    To protect the privacy of victims, addresses were reported at the block level, and the calltypes Cruelty \n",
    "    to Juveniles, Juvenile Attachment, and Missing Juvenile were removed in accordance with the Louisiana \n",
    "    Public Records Act, L.R.S. 44:1.\n",
    "</p>\n",
    "<p>\n",
    "    Calls for service regarding Aggravated Rape, Aggravated Rape - MA, Crime Against Nature, Mental Patient, \n",
    "    Oral Sexual Battery, Prostitution, Sexual Battery, Simple Rape, Simple Rape - Male V, and Soliciting for \n",
    "    Prost. are included in statistical plots. However, due to the removal of map coordinates (X,Y) for\n",
    "    victim protective purposes, they are unable to included for mapping purposes or statistical calculations \n",
    "    involving mapped calls.\n",
    "</p>"
   ]
  },
  {
   "cell_type": "code",
   "execution_count": 26,
   "id": "3ea2de52",
   "metadata": {},
   "outputs": [],
   "source": [
    "import os\n",
    "import pandas as pd\n",
    "import geopandas as gpd\n",
    "import re"
   ]
  },
  {
   "cell_type": "code",
   "execution_count": 27,
   "id": "04f6084b",
   "metadata": {},
   "outputs": [],
   "source": [
    "start_year = 2014\n",
    "end_year = 2020\n",
    "# Type of calls for service (used in plot titles and filenames). \n",
    "## No spaces, and use undercores to separate words.\n",
    "call_types = 'domestic_violence' \n",
    "# Calls of interest from dataset\n",
    "calls_of_interest = ['SIMPLE BATTERY DOMESTIC', \n",
    "                     'SIMPLE ASSAULT DOMESTIC', \n",
    "                     'AGGRAVATED ASSAULT DOMESTIC',\n",
    "                     'AGGRAVATED BATTERY DOMESTIC',\n",
    "                     'HOMICIDE DOMESTIC']"
   ]
  },
  {
   "cell_type": "code",
   "execution_count": 28,
   "id": "c6aff7e4",
   "metadata": {},
   "outputs": [],
   "source": [
    "dir_main = os.getcwd()\n",
    "dir_data = os.path.join(dir_main, 'data_source')\n",
    "dir_cleaned = os.path.join(dir_main, 'data_cleaned')\n",
    "dir_map_res = os.path.join(dir_main, 'map_resources')\n",
    "dir_gj = os.path.join(dir_main, 'exported_geojsons')\n",
    "dir_plots = os.path.join(dir_main, 'exported_plots')\n",
    "dir_maps = os.path.join(dir_main, 'exported_maps')"
   ]
  },
  {
   "cell_type": "markdown",
   "id": "35f0c0d9",
   "metadata": {},
   "source": [
    "#### Set the start and end years for CSVs to be read into dataframes"
   ]
  },
  {
   "cell_type": "code",
   "execution_count": 29,
   "id": "0f6ea98b",
   "metadata": {},
   "outputs": [],
   "source": [
    "year = start_year\n",
    "df_list = []\n",
    "while year <= end_year:\n",
    "    df_calls = pd.read_csv(os.path.join(dir_data, f'Calls_for_Service_{year}.csv'), low_memory=False)\n",
    "    df_list.append(df_calls)\n",
    "    year += 1 "
   ]
  },
  {
   "cell_type": "markdown",
   "id": "567f1567",
   "metadata": {},
   "source": [
    "#### Add year column for each dataframe, populate year column, and drop unneeded columns"
   ]
  },
  {
   "cell_type": "code",
   "execution_count": 30,
   "id": "65b39126",
   "metadata": {},
   "outputs": [],
   "source": [
    "dfs_cleaned = []\n",
    "year_temp = start_year\n",
    "for df in df_list:\n",
    "    df['Year'] = year_temp\n",
    "    df = df[['Year', 'TypeText', 'MapX', 'MapY']]\n",
    "    dfs_cleaned.append(df)\n",
    "    year_temp +=1"
   ]
  },
  {
   "cell_type": "markdown",
   "id": "d929a3f5",
   "metadata": {},
   "source": [
    "<b><font color=\"red\">Markdown in RED font are not needed for script and are only included as a representation of the process in Python for filtering dataset for certain types of calls.</font></b>"
   ]
  },
  {
   "cell_type": "markdown",
   "id": "717cfb2d",
   "metadata": {},
   "source": [
    "### <font color=\"red\">View unique values for the type of police call</font>"
   ]
  },
  {
   "cell_type": "code",
   "execution_count": 31,
   "id": "b87032fc",
   "metadata": {},
   "outputs": [
    {
     "data": {
      "text/plain": [
       "['AGGRAVATED BATTERY BY SHOOTING',\n",
       " 'COMPLAINT OTHER',\n",
       " 'MEDICAL',\n",
       " 'DISCHARGING FIREARM',\n",
       " 'FIREWORKS',\n",
       " 'DISTURBANCE (OTHER)',\n",
       " 'BURGLAR ALARM, SILENT',\n",
       " 'FIRE',\n",
       " 'SUSPICIOUS PERSON',\n",
       " 'HIT & RUN',\n",
       " 'AUTO ACCIDENT',\n",
       " 'PICKPOCKET',\n",
       " 'MENTAL PATIENT',\n",
       " 'UNDERAGE DRINKING VIOLATION',\n",
       " 'LOST PROPERTY',\n",
       " 'TRAFFIC INCIDENT',\n",
       " 'MISSING ADULT',\n",
       " 'DEATH',\n",
       " 'OBSCENITY, EXPOSING',\n",
       " 'AGGRAVATED CRIMINAL DAMAGE',\n",
       " 'THEFT BY FRAUD',\n",
       " 'DOMESTIC DISTURBANCE',\n",
       " 'CURFEW VIOLATION',\n",
       " 'WRECKLESS DRIVING',\n",
       " 'SIMPLE BATTERY DOMESTIC',\n",
       " 'ARMED ROBBERY WITH GUN',\n",
       " 'PROWLER',\n",
       " 'NOISE COMPLAINT',\n",
       " 'UNAUTHORIZED USE OF VEHICLE',\n",
       " 'AGGRAVATED ASSAULT',\n",
       " 'SIMPLE CRIMINAL DAMAGE',\n",
       " 'SIMPLE BATTERY',\n",
       " 'FIGHT',\n",
       " 'AUTO THEFT',\n",
       " 'THEFT',\n",
       " 'HIT & RUN WITH INJURIES',\n",
       " 'FUGITIVE ATTACHMENT',\n",
       " 'RETURN FOR ADDITIONAL INFO',\n",
       " 'DRIVING WHILE UNDER INFLUENCE',\n",
       " 'MISSING JUVENILE',\n",
       " 'AGGRAVATED BATTERY',\n",
       " 'AUTO ACCIDENT WITH INJURY',\n",
       " 'SILENT 911 CALL',\n",
       " 'CARJACKING',\n",
       " 'MUNICIPAL ATTACHMENT',\n",
       " 'DRUG VIOLATIONS',\n",
       " 'DAILY WALKING BEAT LOG',\n",
       " 'SIMPLE BURGLARY',\n",
       " 'BURGLAR ALARM, LOCAL',\n",
       " 'SHOPLIFTING',\n",
       " 'HOMICIDE BY SHOOTING',\n",
       " 'CRIMINAL DAMAGE DOMESTIC',\n",
       " 'BUSINESS BUGLARY',\n",
       " 'SIMPLE BURGLARY VEHICLE',\n",
       " 'EXTORTION (THREATS) DOMESTIC',\n",
       " 'RESIDENCE BURGLARY',\n",
       " 'SIMPLE ROBBERY',\n",
       " 'DRUNK',\n",
       " 'JUVENILE ATTACHMENT',\n",
       " 'WARR STOP WITH RELEASE',\n",
       " 'DIRECTED TRAFFIC ENFORCEMENT',\n",
       " 'TRAFFIC CONGESTION',\n",
       " 'BICYCLE THEFT',\n",
       " 'TRAFFIC ATTACHMENT',\n",
       " 'AGGRAVATED BATTERY DOMESTIC',\n",
       " 'ILLEGAL CARRYING OF WEAPON',\n",
       " 'HOLD UP ALARM',\n",
       " 'RECOVERY OF VEHICLE',\n",
       " 'AGGRAVATED BATTERY BY KNIFE',\n",
       " 'THEFT BY EMBEZZLEMENT',\n",
       " 'ARMED ROBBERY WITH KNIFE',\n",
       " 'RECOVERY OF REPORTED STOLEN VEHICLE',\n",
       " 'HOMELESS',\n",
       " 'SIMULTANEOS STOLEN/RECOVERY VEHICLE',\n",
       " 'FORGERY',\n",
       " 'AGGRAVATED RAPE',\n",
       " 'THEFT FROM EXTERIOR',\n",
       " 'ILLEGAL CARRYING OF WEAPON- GUN',\n",
       " 'POSSESSION OF STOLEN PROPERTY',\n",
       " 'EXTORTION (THREATS)',\n",
       " 'UNCLASSIFIED DEATH',\n",
       " 'AGGRAVATED ASSAULT DOMESTIC',\n",
       " 'VIOLATION OF PROTECTION ORDER',\n",
       " 'CRIMINAL MISCHIEF',\n",
       " 'POLICE VEHICLE ACCIDENT',\n",
       " 'ARMED ROBBERY',\n",
       " 'SIMPLE ROBBERY, PROPERTY SNATCHING',\n",
       " 'ATTACHMENT',\n",
       " 'SIMPLE ASSAULT DOMESTIC',\n",
       " 'SIMPLE RAPE',\n",
       " 'AGGRAVATED BURGLARY',\n",
       " 'SUICIDE',\n",
       " 'CRUELTY TO ANIMALS',\n",
       " 'NEGLIENT INJURY',\n",
       " 'INCIDENT REQUESTED BY ANOTHER AGENCY',\n",
       " 'TRUANT VIOLATION',\n",
       " 'SIMPLE ASSAULT',\n",
       " 'UNATTENDED PACKAGE',\n",
       " 'PANDERING',\n",
       " 'CONTRIBUTING TO DELINQUENCY',\n",
       " 'IMPERSONATING AN OFFICER',\n",
       " 'VEHICLE PURSUIT',\n",
       " 'SUSPICIOUS PACKAGE',\n",
       " 'OFFICER NEEDS ASSISTANCE, LIFE IN DANGER',\n",
       " 'BOMB SCARE',\n",
       " 'GAMBLING',\n",
       " 'CARJACKING- NO WEAPON',\n",
       " 'SIMPLE ARSON',\n",
       " 'PROSTITUTION',\n",
       " 'AGGRAVATED ARSON',\n",
       " 'FLOOD EVENT',\n",
       " 'ILLEGAL CARRYING OF WEAPON- KNIFE',\n",
       " 'AUTO ACCIDENT FATALITY',\n",
       " 'SAFE BURGLARY',\n",
       " 'HIT & RUN FATALITY',\n",
       " 'ASSET SEIZURE',\n",
       " 'SEXUAL BATTERY',\n",
       " 'INDECENT BEHAVIOR',\n",
       " 'CRIMINAL MISCHIEF DOMESTIC',\n",
       " 'ABANDONED VEHICLE',\n",
       " 'HOMICIDE BY CUTTING',\n",
       " 'OFFICER NEEDS ASSISTANCE',\n",
       " 'SIMPLE BURGLARY DOMESTIC',\n",
       " 'CAD TEST',\n",
       " 'PARADE ITEM NUMBER',\n",
       " 'AGGRAVATED RAPE MALE VICTIM',\n",
       " 'ORAL SEXUAL BATTERY',\n",
       " 'CRIME AGAINST NATURE',\n",
       " 'ISSUING WORTHLESS CHECKS',\n",
       " 'SIMPLE KIDNAPPING',\n",
       " 'TEXT-TO-911 TESTING',\n",
       " 'HIT & RUN POLICE VEHICLE',\n",
       " 'HOMICIDE',\n",
       " 'SIMPLE ESCAPE',\n",
       " 'BUSINESS BURGLARY',\n",
       " 'DESECRATION OF GRAVES',\n",
       " 'PROTEST',\n",
       " 'HOMICIDE DOMESTIC',\n",
       " 'BLIGHTED PROPERTY',\n",
       " 'SIMPLE RAPE MALE VICTIM',\n",
       " 'SIMPLE ARSON DOMESTIC',\n",
       " 'PICKETING',\n",
       " 'SOLICITING FOR PROSTITUTION',\n",
       " 'AGGRAVATED KIDNAPPING',\n",
       " 'PEEPING TOM',\n",
       " 'DISPERSE SUBJECTS']"
      ]
     },
     "execution_count": 31,
     "metadata": {},
     "output_type": "execute_result"
    }
   ],
   "source": [
    "unique = dfs_cleaned[0]['TypeText'].unique().tolist()\n",
    "unique"
   ]
  },
  {
   "cell_type": "markdown",
   "id": "a0a0f5fc",
   "metadata": {},
   "source": [
    "#### <font color=\"red\">Compile a regular expression to only search for expressions with 'Domestic' in the type of police call</font>"
   ]
  },
  {
   "cell_type": "code",
   "execution_count": 32,
   "id": "3bde5ce2",
   "metadata": {},
   "outputs": [
    {
     "data": {
      "text/plain": [
       "['DOMESTIC DISTURBANCE',\n",
       " 'SIMPLE BATTERY DOMESTIC',\n",
       " 'CRIMINAL DAMAGE DOMESTIC',\n",
       " 'EXTORTION (THREATS) DOMESTIC',\n",
       " 'AGGRAVATED BATTERY DOMESTIC',\n",
       " 'AGGRAVATED ASSAULT DOMESTIC',\n",
       " 'SIMPLE ASSAULT DOMESTIC',\n",
       " 'CRIMINAL MISCHIEF DOMESTIC',\n",
       " 'SIMPLE BURGLARY DOMESTIC',\n",
       " 'HOMICIDE DOMESTIC',\n",
       " 'SIMPLE ARSON DOMESTIC']"
      ]
     },
     "execution_count": 32,
     "metadata": {},
     "output_type": "execute_result"
    }
   ],
   "source": [
    "r = re.compile('.*DOMESTIC')\n",
    "new_unique = list(filter(r.match, unique))\n",
    "new_unique"
   ]
  },
  {
   "cell_type": "markdown",
   "id": "f4c5bdb7",
   "metadata": {},
   "source": [
    "#### Create a list of call types of interest, restrict dataset to only call types of interest, and save csv"
   ]
  },
  {
   "cell_type": "code",
   "execution_count": 33,
   "id": "8e855380",
   "metadata": {},
   "outputs": [],
   "source": [
    "def restrict_calls(df_list, call_type):\n",
    "    '''\n",
    "    Filters calls to call_type list and concatenates dataframe list together.\n",
    "    '''\n",
    "    df_list_years_temp = []\n",
    "    for df in df_list:\n",
    "        df_list_calls_temp = []\n",
    "        for call in call_type:\n",
    "            df_temp = df[df['TypeText'] == call]\n",
    "            #df_temp = df_temp.copy(deep=True) # Was getting a warning about using a copied dataframe. This fixes it.\n",
    "            df_list_calls_temp.append(df_temp)\n",
    "        df_year = pd.concat(df_list_calls_temp)\n",
    "        df_list_years_temp.append(df_year)\n",
    "    df_final_concat = pd.concat(df_list_years_temp)\n",
    "    return df_final_concat"
   ]
  },
  {
   "cell_type": "code",
   "execution_count": 34,
   "id": "bd3fe5f8",
   "metadata": {},
   "outputs": [],
   "source": [
    "df_fully_cleaned = restrict_calls(dfs_cleaned, calls_of_interest)"
   ]
  },
  {
   "cell_type": "code",
   "execution_count": 35,
   "id": "9999d376",
   "metadata": {},
   "outputs": [],
   "source": [
    "output_filename = f'{start_year}-{end_year}_calls_for_{call_types}'\n",
    "df_fully_cleaned.to_csv(os.path.join(dir_cleaned, f'{output_filename}.csv'), index=False)"
   ]
  },
  {
   "cell_type": "markdown",
   "id": "62c749eb",
   "metadata": {},
   "source": [
    "#### Get total number of domestic abuse related calls by year"
   ]
  },
  {
   "cell_type": "code",
   "execution_count": 36,
   "id": "da378102",
   "metadata": {},
   "outputs": [],
   "source": [
    "df = df_fully_cleaned.copy(deep=True)"
   ]
  },
  {
   "cell_type": "code",
   "execution_count": 37,
   "id": "a722e965",
   "metadata": {},
   "outputs": [],
   "source": [
    "df_grouped_year = df.groupby('Year').count()\n",
    "df_grouped_year = df_grouped_year.reset_index()"
   ]
  },
  {
   "cell_type": "markdown",
   "id": "03c04d74",
   "metadata": {},
   "source": [
    "#### Plot the calls by year"
   ]
  },
  {
   "cell_type": "code",
   "execution_count": 38,
   "id": "cdfc0660",
   "metadata": {},
   "outputs": [],
   "source": [
    "import plotly.graph_objects as go"
   ]
  },
  {
   "cell_type": "code",
   "execution_count": 52,
   "id": "12824711",
   "metadata": {},
   "outputs": [],
   "source": [
    "plot = go.Figure(data=[go.Bar(x=df_grouped_year['Year'],\n",
    "                              y=df_grouped_year['TypeText'],\n",
    "                              marker_color='#c4382d')])\n",
    "plot.update_layout(font_color='black',\n",
    "                   title_font_family='Arial, sans-serif',\n",
    "                   showlegend=False,\n",
    "                   plot_bgcolor='#ededed',\n",
    "                   margin=dict(l=0, r=0, b=0, t=0),\n",
    "                   hovermode='x',\n",
    "                   hoverlabel=dict(bgcolor='#f3e20c',\n",
    "                                   font_size=15))\n",
    "\n",
    "y_title = '<b>Calls for Service: ' + str.title(call_types).replace('_', ' ') + '</b>'\n",
    "plot.update_yaxes(title_text=y_title, showspikes=False, spikecolor='#6f6f6f')\n",
    "plot.update_xaxes(title_text='<b>Year</b>', showspikes=False, spikecolor='#6f6f6f')\n",
    "\n",
    "plot.update_traces(marker=dict(line=dict(width=2, color='black')))\n",
    "\n",
    "plot.write_html(os.path.join(dir_plots, f'{start_year}_{end_year}_{call_types}.html'))"
   ]
  },
  {
   "cell_type": "markdown",
   "id": "ac536af6",
   "metadata": {},
   "source": [
    "#### Set projection to WGS84 and export GeoJSON"
   ]
  },
  {
   "cell_type": "code",
   "execution_count": 15,
   "id": "b63abcea",
   "metadata": {},
   "outputs": [],
   "source": [
    "gdf = gpd.GeoDataFrame(df, geometry=gpd.points_from_xy(df.MapX, df.MapY))"
   ]
  },
  {
   "cell_type": "code",
   "execution_count": 16,
   "id": "039197db",
   "metadata": {},
   "outputs": [],
   "source": [
    "gdf = gdf.set_crs('EPSG:3452')\n",
    "gdf = gdf.to_crs('EPSG:4326')"
   ]
  },
  {
   "cell_type": "code",
   "execution_count": 17,
   "id": "84499533",
   "metadata": {},
   "outputs": [],
   "source": [
    "gdf.to_file(os.path.join(dir_cleaned, f'{output_filename}.geojson'), driver='GeoJSON')"
   ]
  },
  {
   "cell_type": "markdown",
   "id": "5798137e",
   "metadata": {},
   "source": [
    "#### Split calls by year and add dataframes to list"
   ]
  },
  {
   "cell_type": "code",
   "execution_count": 18,
   "id": "95cb72ab",
   "metadata": {},
   "outputs": [],
   "source": [
    "year_list = gdf['Year'].unique().tolist()\n",
    "year_list.sort() "
   ]
  },
  {
   "cell_type": "code",
   "execution_count": 19,
   "id": "ba010f90",
   "metadata": {},
   "outputs": [],
   "source": [
    "gdf_list = []\n",
    "for year in year_list:\n",
    "    vars()[f'gdf_{year}'] = gdf[gdf['Year'] == year]\n",
    "    gdf_list.append(vars()[f'gdf_{year}'])"
   ]
  },
  {
   "cell_type": "markdown",
   "id": "cfce6542",
   "metadata": {},
   "source": [
    "#### Spatially join calls with New Orleans neighborhoods"
   ]
  },
  {
   "cell_type": "code",
   "execution_count": 20,
   "id": "153a3654",
   "metadata": {},
   "outputs": [],
   "source": [
    "hoods = gpd.read_file(os.path.join(dir_map_res, 'neighborhoods.geojson'))\n",
    "#hoods = gpd.read_file(os.path.join(dir_map_res, 'Neighborhoods', 'Neighborhood_Statistical_Areas', 'Neighborhood_Statistical_Areas.shp'))\n",
    "hoods = hoods[['GNOCDC_LAB', 'geometry']]\n",
    "hoods.rename(columns={'GNOCDC_LAB': 'neighborhood'}, inplace=True)\n",
    "#hoods = gdf.to_crs('EPSG:4326')"
   ]
  },
  {
   "cell_type": "code",
   "execution_count": 21,
   "id": "47892546",
   "metadata": {},
   "outputs": [],
   "source": [
    "gdf_list_temp = []\n",
    "for gdf in gdf_list:\n",
    "    gdf_temp = gpd.sjoin(hoods, gdf, how='left', op='contains')\n",
    "    gdf_temp = gdf_temp[['Year', 'neighborhood', 'TypeText', 'geometry']]\n",
    "    gdf_list_temp.append(gdf_temp)\n",
    "gdf_list = gdf_list_temp"
   ]
  },
  {
   "cell_type": "markdown",
   "id": "943ce747",
   "metadata": {},
   "source": [
    "#### Get count of number of calls per neighborhoods "
   ]
  },
  {
   "cell_type": "code",
   "execution_count": 22,
   "id": "f6e436c1",
   "metadata": {},
   "outputs": [],
   "source": [
    "gdf_agg_list = []\n",
    "for gdf in gdf_list:\n",
    "    gdf_temp = gdf.dissolve(by='neighborhood', aggfunc='count')\n",
    "    gdf_temp = gdf_temp[['Year', 'geometry']]\n",
    "    gdf_temp = gdf_temp.rename(columns={'Year': 'call_count'})\n",
    "    gdf_agg_list.append(gdf_temp)"
   ]
  },
  {
   "cell_type": "markdown",
   "id": "7627208c",
   "metadata": {},
   "source": [
    "#### Save the cleaned geojson files"
   ]
  },
  {
   "cell_type": "code",
   "execution_count": 23,
   "id": "58355099",
   "metadata": {},
   "outputs": [],
   "source": [
    "year_temp = start_year\n",
    "for gdf in gdf_agg_list:\n",
    "    gdf.to_file(os.path.join(dir_gj, f'{year_temp}_{call_types}_by_neighborhood.geojson'), driver='GeoJSON')\n",
    "    year_temp += 1"
   ]
  },
  {
   "cell_type": "markdown",
   "id": "041cca51",
   "metadata": {},
   "source": [
    "#### Create Folium maps by year"
   ]
  },
  {
   "cell_type": "code",
   "execution_count": 24,
   "id": "a9452c54",
   "metadata": {},
   "outputs": [],
   "source": [
    "import folium\n",
    "import folium.plugins as plugins"
   ]
  },
  {
   "cell_type": "code",
   "execution_count": 25,
   "id": "d232ce30",
   "metadata": {
    "scrolled": true
   },
   "outputs": [],
   "source": [
    "year_temp = start_year\n",
    "for gdf in gdf_agg_list:\n",
    "    \n",
    "    m = folium.Map(location=[30.029, -89.8688], zoom_start=11, max_bounds=True)\n",
    "    folium.TileLayer('CartoDB positron',name=\"Light Map\",control=False).add_to(m)\n",
    "    \n",
    "    layer_title = str.title(call_types).replace('_', ' ') + f' {year_temp}'\n",
    "    #legend_title = legend_title.replace('_', ' ')\n",
    "    gdf = gdf.reset_index() #######\n",
    "    choropleth = folium.Choropleth(\n",
    "                    geo_data=gdf,\n",
    "                    name=layer_title,\n",
    "                    data=gdf,\n",
    "                    columns=['neighborhood', 'call_count'],\n",
    "                    key_on='feature.properties.neighborhood',\n",
    "                    bins=9,\n",
    "                    fill_color='Reds',\n",
    "                    nan_fill_color='black',\n",
    "                    fill_opacity=0.8,\n",
    "                    nan_fill_opacity=0,\n",
    "                    line_color='black',\n",
    "                    dash_array=10,\n",
    "                    line_weight=1,\n",
    "                    line_opacity=0.8,\n",
    "                    legend_name=f'Number of Calls for Service: {layer_title}',\n",
    "                    highlight=True,\n",
    "                    smooth_factor=1\n",
    "                    ).add_to(m)\n",
    "    folium.LayerControl().add_to(m)\n",
    "    folium.plugins.Fullscreen(position='topright').add_to(m)\n",
    "    # Create popup layer\n",
    "    style_function = lambda x: {'fillColor': '#ffffff', \n",
    "                                'color':'#6f6f6f', \n",
    "                                'fillOpacity': 0, \n",
    "                                'weight': 0.1\n",
    "                               }\n",
    "    highlight_function = lambda x: {'fillColor': '#f3e20c',\n",
    "                                    'color':'black',\n",
    "                                    'fillOpacity': 0.8,\n",
    "                                    'weight': 3\n",
    "                                   }\n",
    "\n",
    "    popup = folium.features.GeoJson(\n",
    "        gdf,\n",
    "        style_function=style_function,\n",
    "        control=False,\n",
    "        highlight_function=highlight_function,\n",
    "        tooltip=folium.features.GeoJsonTooltip(fields=['neighborhood',\n",
    "                                                       'call_count'\n",
    "                                                      ],\n",
    "                                               aliases=['Neighborhood:',\n",
    "                                                        '<font color=\"#f3e20c\">Calls:</font>'\n",
    "                                                       ],\n",
    "                                               style=(\"background-color: grey; color: #ffffff; font-family: arial; font-size: 12px; padding: 10px;\")\n",
    "                                              )\n",
    "        )\n",
    "    m.add_child(popup)\n",
    "    m.keep_in_front(popup)\n",
    "    m.save(os.path.join(dir_maps, f'{year_temp}_{call_types}_choropleth.html'))\n",
    "    year_temp += 1"
   ]
  }
 ],
 "metadata": {
  "kernelspec": {
   "display_name": "Python 3",
   "language": "python",
   "name": "python3"
  },
  "language_info": {
   "codemirror_mode": {
    "name": "ipython",
    "version": 3
   },
   "file_extension": ".py",
   "mimetype": "text/x-python",
   "name": "python",
   "nbconvert_exporter": "python",
   "pygments_lexer": "ipython3",
   "version": "3.9.4"
  }
 },
 "nbformat": 4,
 "nbformat_minor": 5
}
